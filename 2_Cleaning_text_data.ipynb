{
 "cells": [
  {
   "cell_type": "code",
   "execution_count": 1,
   "metadata": {},
   "outputs": [],
   "source": [
    "import pandas as pd\n",
    "import re\n",
    "import string"
   ]
  },
  {
   "cell_type": "markdown",
   "metadata": {},
   "source": [
    "# 2 Cleaning Text Data"
   ]
  },
  {
   "cell_type": "code",
   "execution_count": 2,
   "metadata": {},
   "outputs": [],
   "source": [
    "data = pd.read_csv('data_after_step_1.csv')\n",
    "data = data.drop(labels=['Unnamed: 0'],axis=1)"
   ]
  },
  {
   "cell_type": "code",
   "execution_count": 3,
   "metadata": {
    "scrolled": true
   },
   "outputs": [
    {
     "data": {
      "text/html": [
       "<div>\n",
       "<style scoped>\n",
       "    .dataframe tbody tr th:only-of-type {\n",
       "        vertical-align: middle;\n",
       "    }\n",
       "\n",
       "    .dataframe tbody tr th {\n",
       "        vertical-align: top;\n",
       "    }\n",
       "\n",
       "    .dataframe thead th {\n",
       "        text-align: right;\n",
       "    }\n",
       "</style>\n",
       "<table border=\"1\" class=\"dataframe\">\n",
       "  <thead>\n",
       "    <tr style=\"text-align: right;\">\n",
       "      <th></th>\n",
       "      <th>PDF_Page</th>\n",
       "      <th>Chapter</th>\n",
       "      <th>Chapter_Page</th>\n",
       "      <th>Text</th>\n",
       "      <th>Number of Words</th>\n",
       "    </tr>\n",
       "  </thead>\n",
       "  <tbody>\n",
       "    <tr>\n",
       "      <th>0</th>\n",
       "      <td>26</td>\n",
       "      <td>1</td>\n",
       "      <td>1</td>\n",
       "      <td>1-1Chapter 1Aircraft StructuresA Brief History...</td>\n",
       "      <td>19</td>\n",
       "    </tr>\n",
       "    <tr>\n",
       "      <th>1</th>\n",
       "      <td>26</td>\n",
       "      <td>1</td>\n",
       "      <td>1</td>\n",
       "      <td>Advances in materials and processes \\nused to ...</td>\n",
       "      <td>27</td>\n",
       "    </tr>\n",
       "    <tr>\n",
       "      <th>2</th>\n",
       "      <td>26</td>\n",
       "      <td>1</td>\n",
       "      <td>1</td>\n",
       "      <td>Combined with continuous powerplant \\n\\ndevelo...</td>\n",
       "      <td>13</td>\n",
       "    </tr>\n",
       "    <tr>\n",
       "      <th>3</th>\n",
       "      <td>26</td>\n",
       "      <td>1</td>\n",
       "      <td>1</td>\n",
       "      <td>The key discovery that ﬁliftﬂ could be created...</td>\n",
       "      <td>28</td>\n",
       "    </tr>\n",
       "    <tr>\n",
       "      <th>4</th>\n",
       "      <td>26</td>\n",
       "      <td>1</td>\n",
       "      <td>1</td>\n",
       "      <td>George Cayley \\ndeveloped an efficient cambere...</td>\n",
       "      <td>21</td>\n",
       "    </tr>\n",
       "  </tbody>\n",
       "</table>\n",
       "</div>"
      ],
      "text/plain": [
       "   PDF_Page  Chapter  Chapter_Page  \\\n",
       "0        26        1             1   \n",
       "1        26        1             1   \n",
       "2        26        1             1   \n",
       "3        26        1             1   \n",
       "4        26        1             1   \n",
       "\n",
       "                                                Text  Number of Words  \n",
       "0  1-1Chapter 1Aircraft StructuresA Brief History...               19  \n",
       "1  Advances in materials and processes \\nused to ...               27  \n",
       "2  Combined with continuous powerplant \\n\\ndevelo...               13  \n",
       "3  The key discovery that ﬁliftﬂ could be created...               28  \n",
       "4  George Cayley \\ndeveloped an efficient cambere...               21  "
      ]
     },
     "execution_count": 3,
     "metadata": {},
     "output_type": "execute_result"
    }
   ],
   "source": [
    "data.head()"
   ]
  },
  {
   "cell_type": "code",
   "execution_count": null,
   "metadata": {},
   "outputs": [],
   "source": []
  },
  {
   "cell_type": "markdown",
   "metadata": {},
   "source": [
    "In the cleaning process I got rid of kind of symbols, numbers, line breaks,transformed the text to lowercase (etc)"
   ]
  },
  {
   "cell_type": "code",
   "execution_count": 4,
   "metadata": {},
   "outputs": [],
   "source": [
    "# Convert all text to lowercase\n",
    "data['Text'] = data['Text'].apply(lambda sentence: sentence.lower())\n",
    "# remove symbols, exclamation marks... --> '!\"#$%&\\'()*+,-./:;<=>?@[\\\\]^_`{|}~' \n",
    "data['Text'] = data['Text'].apply(lambda sentence: re.sub('[%s]' % re.escape(string.punctuation), '', sentence))\n",
    "# remove numbers \n",
    "data['Text'] = data['Text'].apply(lambda sentence: re.sub('[0-9]', '', sentence))\n",
    "# remove line breaks special characters\n",
    "data['Text'] = data['Text'].apply(lambda sentence: re.sub('[\\t\\n\\r\\f\\v]' , '', sentence))\n",
    "# Substitute multiple white spaces characters for one\n",
    "data['Text'] = data['Text'].apply(lambda sentence: re.sub(' +' , ' ', sentence))\n",
    "# From analysing the data afterwards the symbol ° has shown up several time\n",
    "data['Text'] = data['Text'].apply(lambda sentence: sentence.replace('°',''))"
   ]
  },
  {
   "cell_type": "code",
   "execution_count": 5,
   "metadata": {},
   "outputs": [
    {
     "data": {
      "text/html": [
       "<div>\n",
       "<style scoped>\n",
       "    .dataframe tbody tr th:only-of-type {\n",
       "        vertical-align: middle;\n",
       "    }\n",
       "\n",
       "    .dataframe tbody tr th {\n",
       "        vertical-align: top;\n",
       "    }\n",
       "\n",
       "    .dataframe thead th {\n",
       "        text-align: right;\n",
       "    }\n",
       "</style>\n",
       "<table border=\"1\" class=\"dataframe\">\n",
       "  <thead>\n",
       "    <tr style=\"text-align: right;\">\n",
       "      <th></th>\n",
       "      <th>PDF_Page</th>\n",
       "      <th>Chapter</th>\n",
       "      <th>Chapter_Page</th>\n",
       "      <th>Text</th>\n",
       "      <th>Number of Words</th>\n",
       "    </tr>\n",
       "  </thead>\n",
       "  <tbody>\n",
       "    <tr>\n",
       "      <th>0</th>\n",
       "      <td>26</td>\n",
       "      <td>1</td>\n",
       "      <td>1</td>\n",
       "      <td>chapter aircraft structuresa brief history of ...</td>\n",
       "      <td>19</td>\n",
       "    </tr>\n",
       "    <tr>\n",
       "      <th>1</th>\n",
       "      <td>26</td>\n",
       "      <td>1</td>\n",
       "      <td>1</td>\n",
       "      <td>advances in materials and processes used to co...</td>\n",
       "      <td>27</td>\n",
       "    </tr>\n",
       "    <tr>\n",
       "      <th>2</th>\n",
       "      <td>26</td>\n",
       "      <td>1</td>\n",
       "      <td>1</td>\n",
       "      <td>combined with continuous powerplant developmen...</td>\n",
       "      <td>13</td>\n",
       "    </tr>\n",
       "    <tr>\n",
       "      <th>3</th>\n",
       "      <td>26</td>\n",
       "      <td>1</td>\n",
       "      <td>1</td>\n",
       "      <td>the key discovery that ﬁliftﬂ could be created...</td>\n",
       "      <td>28</td>\n",
       "    </tr>\n",
       "    <tr>\n",
       "      <th>4</th>\n",
       "      <td>26</td>\n",
       "      <td>1</td>\n",
       "      <td>1</td>\n",
       "      <td>george cayley developed an efficient cambered ...</td>\n",
       "      <td>21</td>\n",
       "    </tr>\n",
       "  </tbody>\n",
       "</table>\n",
       "</div>"
      ],
      "text/plain": [
       "   PDF_Page  Chapter  Chapter_Page  \\\n",
       "0        26        1             1   \n",
       "1        26        1             1   \n",
       "2        26        1             1   \n",
       "3        26        1             1   \n",
       "4        26        1             1   \n",
       "\n",
       "                                                Text  Number of Words  \n",
       "0  chapter aircraft structuresa brief history of ...               19  \n",
       "1  advances in materials and processes used to co...               27  \n",
       "2  combined with continuous powerplant developmen...               13  \n",
       "3  the key discovery that ﬁliftﬂ could be created...               28  \n",
       "4  george cayley developed an efficient cambered ...               21  "
      ]
     },
     "execution_count": 5,
     "metadata": {},
     "output_type": "execute_result"
    }
   ],
   "source": [
    "data.head()"
   ]
  },
  {
   "cell_type": "markdown",
   "metadata": {},
   "source": [
    "# 3 Removing Stopwords, and Lemmatizing "
   ]
  },
  {
   "cell_type": "markdown",
   "metadata": {},
   "source": [
    "### NLTK ---> Lemmatizer did not work so well\n",
    "http://www.nltk.org/api/nltk.stem.html?highlight=lemmatizer"
   ]
  },
  {
   "cell_type": "code",
   "execution_count": 6,
   "metadata": {},
   "outputs": [],
   "source": [
    "# tokenize each sentence\n",
    "#data['Raw Sentence tokenize'] = data['Text'].apply(lambda sentence: sentence.split(' '))\n",
    "#Stopwords\n",
    "#from nltk.corpus import stopwords\n",
    "#stop_words = set(stopwords.words('english')) # set lookup O(1) --> verify?\n",
    "#data['W/O stop words Sentence tokenize'] = data['Raw Sentence tokenize']\\\n",
    "#.apply(lambda sentence: [word for word in sentence if word not in stop_words])\n",
    "#Lemmatization --> http://www.nltk.org/api/nltk.stem.html?highlight=lemmatizer\n",
    "#from nltk.stem import WordNetLemmatizer\n",
    "#lemma = WordNetLemmatizer()\n",
    "#data['W/O SW and Lemm Sentence tokenize'] = data['W/O stop words Sentence tokenize']\\\n",
    "#.apply(lambda sentence: [lemma.lemmatize(word) for word in sentence])"
   ]
  },
  {
   "cell_type": "markdown",
   "metadata": {},
   "source": [
    "### Spacy\n",
    "https://spacy.io/usage/linguistic-features"
   ]
  },
  {
   "cell_type": "code",
   "execution_count": 7,
   "metadata": {},
   "outputs": [],
   "source": [
    "import spacy\n",
    "nlp = spacy.load('en_core_web_sm')"
   ]
  },
  {
   "cell_type": "code",
   "execution_count": 8,
   "metadata": {},
   "outputs": [],
   "source": [
    "# Remove Stop words and Lemmatize sentences\n",
    "data['Tokenize']=data['Text']\\\n",
    ".apply(lambda sentence: [token.lemma_ for token in list(nlp(sentence)) if not token.is_stop])"
   ]
  },
  {
   "cell_type": "code",
   "execution_count": 9,
   "metadata": {},
   "outputs": [
    {
     "data": {
      "text/html": [
       "<div>\n",
       "<style scoped>\n",
       "    .dataframe tbody tr th:only-of-type {\n",
       "        vertical-align: middle;\n",
       "    }\n",
       "\n",
       "    .dataframe tbody tr th {\n",
       "        vertical-align: top;\n",
       "    }\n",
       "\n",
       "    .dataframe thead th {\n",
       "        text-align: right;\n",
       "    }\n",
       "</style>\n",
       "<table border=\"1\" class=\"dataframe\">\n",
       "  <thead>\n",
       "    <tr style=\"text-align: right;\">\n",
       "      <th></th>\n",
       "      <th>PDF_Page</th>\n",
       "      <th>Chapter</th>\n",
       "      <th>Chapter_Page</th>\n",
       "      <th>Text</th>\n",
       "      <th>Number of Words</th>\n",
       "      <th>Tokenize</th>\n",
       "    </tr>\n",
       "  </thead>\n",
       "  <tbody>\n",
       "    <tr>\n",
       "      <th>0</th>\n",
       "      <td>26</td>\n",
       "      <td>1</td>\n",
       "      <td>1</td>\n",
       "      <td>chapter aircraft structuresa brief history of ...</td>\n",
       "      <td>19</td>\n",
       "      <td>[chapter, aircraft, structuresa, brief, histor...</td>\n",
       "    </tr>\n",
       "    <tr>\n",
       "      <th>1</th>\n",
       "      <td>26</td>\n",
       "      <td>1</td>\n",
       "      <td>1</td>\n",
       "      <td>advances in materials and processes used to co...</td>\n",
       "      <td>27</td>\n",
       "      <td>[advance, material, process, construct, aircra...</td>\n",
       "    </tr>\n",
       "    <tr>\n",
       "      <th>2</th>\n",
       "      <td>26</td>\n",
       "      <td>1</td>\n",
       "      <td>1</td>\n",
       "      <td>combined with continuous powerplant developmen...</td>\n",
       "      <td>13</td>\n",
       "      <td>[combine, continuous, powerplant, development,...</td>\n",
       "    </tr>\n",
       "    <tr>\n",
       "      <th>3</th>\n",
       "      <td>26</td>\n",
       "      <td>1</td>\n",
       "      <td>1</td>\n",
       "      <td>the key discovery that ﬁliftﬂ could be created...</td>\n",
       "      <td>28</td>\n",
       "      <td>[key, discovery, ﬁliftﬂ, create, pass, air, cu...</td>\n",
       "    </tr>\n",
       "    <tr>\n",
       "      <th>4</th>\n",
       "      <td>26</td>\n",
       "      <td>1</td>\n",
       "      <td>1</td>\n",
       "      <td>george cayley developed an efficient cambered ...</td>\n",
       "      <td>21</td>\n",
       "      <td>[george, cayley, develop, efficient, camber, a...</td>\n",
       "    </tr>\n",
       "  </tbody>\n",
       "</table>\n",
       "</div>"
      ],
      "text/plain": [
       "   PDF_Page  Chapter  Chapter_Page  \\\n",
       "0        26        1             1   \n",
       "1        26        1             1   \n",
       "2        26        1             1   \n",
       "3        26        1             1   \n",
       "4        26        1             1   \n",
       "\n",
       "                                                Text  Number of Words  \\\n",
       "0  chapter aircraft structuresa brief history of ...               19   \n",
       "1  advances in materials and processes used to co...               27   \n",
       "2  combined with continuous powerplant developmen...               13   \n",
       "3  the key discovery that ﬁliftﬂ could be created...               28   \n",
       "4  george cayley developed an efficient cambered ...               21   \n",
       "\n",
       "                                            Tokenize  \n",
       "0  [chapter, aircraft, structuresa, brief, histor...  \n",
       "1  [advance, material, process, construct, aircra...  \n",
       "2  [combine, continuous, powerplant, development,...  \n",
       "3  [key, discovery, ﬁliftﬂ, create, pass, air, cu...  \n",
       "4  [george, cayley, develop, efficient, camber, a...  "
      ]
     },
     "execution_count": 9,
     "metadata": {},
     "output_type": "execute_result"
    }
   ],
   "source": [
    "data.head()"
   ]
  },
  {
   "cell_type": "code",
   "execution_count": 10,
   "metadata": {},
   "outputs": [],
   "source": [
    "data.to_csv('data_after_step_2.csv')"
   ]
  },
  {
   "cell_type": "markdown",
   "metadata": {},
   "source": [
    "Got better results in lemmatizing using Spacy, althouth it took longer to process the data"
   ]
  }
 ],
 "metadata": {
  "kernelspec": {
   "display_name": "Python 3",
   "language": "python",
   "name": "python3"
  },
  "language_info": {
   "codemirror_mode": {
    "name": "ipython",
    "version": 3
   },
   "file_extension": ".py",
   "mimetype": "text/x-python",
   "name": "python",
   "nbconvert_exporter": "python",
   "pygments_lexer": "ipython3",
   "version": "3.6.1"
  }
 },
 "nbformat": 4,
 "nbformat_minor": 2
}
